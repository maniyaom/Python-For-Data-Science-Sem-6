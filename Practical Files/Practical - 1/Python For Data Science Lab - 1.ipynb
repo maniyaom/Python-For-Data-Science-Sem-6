{
 "cells": [
  {
   "cell_type": "markdown",
   "id": "0073e9a0-5d67-4241-a95f-9f0a2ab62701",
   "metadata": {},
   "source": [
    "## 1. Python program to interchange first and last elements in a list"
   ]
  },
  {
   "cell_type": "code",
   "execution_count": 1,
   "id": "884ff945-4f5c-4f15-b6b8-70e12e751774",
   "metadata": {},
   "outputs": [],
   "source": [
    "list = [1,3,9,5,10,12,2,6,8]"
   ]
  },
  {
   "cell_type": "code",
   "execution_count": 2,
   "id": "1ba17365-70f6-4440-98b4-8c0289e504e4",
   "metadata": {},
   "outputs": [
    {
     "name": "stdout",
     "output_type": "stream",
     "text": [
      "List before Interchange : [1, 3, 9, 5, 10, 12, 2, 6, 8]\n",
      "List After Interchange : [8, 3, 9, 5, 10, 12, 2, 6, 1]\n"
     ]
    }
   ],
   "source": [
    "print(f\"List before Interchange : {list}\")\n",
    "list[0],list[-1] = list[-1],list[0]\n",
    "print(f\"List After Interchange : {list}\")"
   ]
  },
  {
   "cell_type": "markdown",
   "id": "8485b574-75e1-4f08-bcbf-e49620e06a8a",
   "metadata": {},
   "source": [
    "## 2. Python program to swap two elements in a list"
   ]
  },
  {
   "cell_type": "code",
   "execution_count": 3,
   "id": "97eac797-dc66-40b4-b123-4bb8157f4c98",
   "metadata": {},
   "outputs": [
    {
     "name": "stdout",
     "output_type": "stream",
     "text": [
      "List before Interchange : [8, 3, 9, 5, 10, 12, 2, 6, 1]\n",
      "List After Interchange : [8, 5, 9, 3, 10, 12, 2, 6, 1]\n"
     ]
    }
   ],
   "source": [
    "print(f\"List before Interchange : {list}\")\n",
    "x = [int(i) for i in input(\"Enter Index Space-Separated : \").split(' ')]\n",
    "list[x[0]],list[x[1]] = list[x[1]],list[x[0]]\n",
    "print(f\"List After Interchange : {list}\")"
   ]
  },
  {
   "cell_type": "markdown",
   "id": "9875d011-88fd-4c35-8ba1-767e3619cd64",
   "metadata": {},
   "source": [
    "## 3. Python | Ways to find length of list"
   ]
  },
  {
   "cell_type": "code",
   "execution_count": 4,
   "id": "3fe04ce5-01f5-4ac5-bcd6-78032779f24b",
   "metadata": {},
   "outputs": [
    {
     "name": "stdout",
     "output_type": "stream",
     "text": [
      "List : [8, 5, 9, 3, 10, 12, 2, 6, 1]\n",
      "Length of a list is 9 by len function.\n",
      "Length of a list is 9 by for loop.\n"
     ]
    }
   ],
   "source": [
    "count = 0\n",
    "print(f\"List : {list}\")\n",
    "print(f\"Length of a list is {len(list)} by len function.\")\n",
    "for i in list:\n",
    "  count += 1\n",
    "print(f\"Length of a list is {count} by for loop.\")"
   ]
  },
  {
   "cell_type": "markdown",
   "id": "508f4b40-8f84-4288-8441-4a39a600ddf0",
   "metadata": {},
   "source": [
    "## 4. Maximum of two numbers in Python"
   ]
  },
  {
   "cell_type": "code",
   "execution_count": 5,
   "id": "68473943-640b-45fc-94b1-a4cbd1f7701b",
   "metadata": {},
   "outputs": [
    {
     "name": "stdout",
     "output_type": "stream",
     "text": [
      "Maximum of two number is 3 by max() function.\n",
      "Maximum of two number is 3 by maxOfTwo() function.\n"
     ]
    }
   ],
   "source": [
    "def maxOfTwo(x,y):\n",
    "  if(x >= y):\n",
    "    return x\n",
    "  else:\n",
    "    return y\n",
    "a = int(input(\"Enter First number : \"))\n",
    "b = int(input(\"Enter Second number : \"))\n",
    "print(f\"Maximum of two number is {max(a,b)} by max() function.\")\n",
    "print(f\"Maximum of two number is {maxOfTwo(a,b)} by maxOfTwo() function.\")"
   ]
  },
  {
   "cell_type": "markdown",
   "id": "fde867d1-a00d-4d00-b437-870ff0f397b3",
   "metadata": {},
   "source": [
    "## 5. Minimum of two numbers in Python"
   ]
  },
  {
   "cell_type": "code",
   "execution_count": 6,
   "id": "5b92fd1c-7c7c-4146-a424-ae793e40577d",
   "metadata": {},
   "outputs": [
    {
     "name": "stdout",
     "output_type": "stream",
     "text": [
      "Minimum of two number is 4 by min() function.\n",
      "Minimum of two number is 4 by minOfTwo() function.\n"
     ]
    }
   ],
   "source": [
    "def minOfTwo(x,y):\n",
    "  if(x <= y):\n",
    "    return x\n",
    "  else:\n",
    "    return y\n",
    "\n",
    "a = int(input(\"Enter First number : \"))\n",
    "b = int(input(\"Enter Second number : \"))\n",
    "print(f\"Minimum of two number is {min(a,b)} by min() function.\")\n",
    "print(f\"Minimum of two number is {minOfTwo(a,b)} by minOfTwo() function.\")"
   ]
  },
  {
   "cell_type": "markdown",
   "id": "d452e682-3529-4ee2-9f26-47f2ad5e75ea",
   "metadata": {},
   "source": [
    "## 1. Python program to check whether the string is Symmetrical or Palindrome"
   ]
  },
  {
   "cell_type": "code",
   "execution_count": 7,
   "id": "566f322c-bcee-406f-9765-2d09a6d0dfac",
   "metadata": {},
   "outputs": [],
   "source": [
    "str1 = \"chess is good game\""
   ]
  },
  {
   "cell_type": "code",
   "execution_count": 8,
   "id": "85c4bef8-4612-4887-a889-3ed65c068389",
   "metadata": {},
   "outputs": [
    {
     "name": "stdout",
     "output_type": "stream",
     "text": [
      "String : chess is good game is not Palindrome.\n",
      "String : chess is good game is not Symmetric.\n"
     ]
    }
   ],
   "source": [
    "def isPalindrome(s):\n",
    "\treturn s == s[::-1]\n",
    "\n",
    "def isSymmetric(s):\n",
    "    s1 = s[:len(s)//2]\n",
    "    s2 = s[len(s)//2:]\n",
    "    if s1 == s2:\n",
    "        return True\n",
    "    else:\n",
    "        return False\n",
    "  \n",
    "ans1 = isPalindrome(str1)\n",
    "ans2 = isSymmetric(str1)\n",
    "\n",
    "if ans1 == True:\n",
    "  print(f\"String : {str1} is Palindrome.\")\n",
    "else:\n",
    "  print(f\"String : {str1} is not Palindrome.\")\n",
    "\n",
    "if ans2 == True:\n",
    "  print(f\"String : {str1} is Symmetric.\")\n",
    "else:\n",
    "  print(f\"String : {str1} is not Symmetric.\")"
   ]
  },
  {
   "cell_type": "markdown",
   "id": "47a89b6c-ef3e-48d8-a9c0-f2b8ec675a7e",
   "metadata": {},
   "source": [
    "## 2. Reverse words in a given String in Python"
   ]
  },
  {
   "cell_type": "code",
   "execution_count": 9,
   "id": "c3bb8aa0-41e8-4bd6-81e5-dd905ef7fbd6",
   "metadata": {},
   "outputs": [
    {
     "name": "stdout",
     "output_type": "stream",
     "text": [
      "Method - 1 : Using for loop\n",
      "game good is chess \n",
      "\n",
      "Method - 2 : Using Slicing\n",
      "game good is chess\n"
     ]
    }
   ],
   "source": [
    "string_list = str1.split(' ')\n",
    "new_string = ''\n",
    "\n",
    "print(\"Method - 1 : Using for loop\")\n",
    "for i in range(len(string_list) - 1, -1, -1):\n",
    "  new_string += string_list[i] + ' '\n",
    "new_string = new_string[:-1]\n",
    "print(new_string,\"\\n\")\n",
    "\n",
    "print(\"Method - 2 : Using Slicing\")\n",
    "new_string = \" \".join(string_list[::-1])\n",
    "print(new_string)"
   ]
  },
  {
   "cell_type": "markdown",
   "id": "9988a09a-9011-46d5-b43a-bef6e84cbcf8",
   "metadata": {},
   "source": [
    "## 3. Ways to remove i’th character from string in Python"
   ]
  },
  {
   "cell_type": "code",
   "execution_count": 10,
   "id": "651b6d90-8425-4268-805a-4b1e6075d940",
   "metadata": {},
   "outputs": [
    {
     "name": "stdout",
     "output_type": "stream",
     "text": [
      "Original String : chess is good game\n",
      "Method - 1\n",
      "New String : ches is good game\n",
      "\n",
      "Method - 2\n",
      "New String : ches is good game\n"
     ]
    }
   ],
   "source": [
    "print(f\"Original String : {str1}\")\n",
    "idx = int(input(\"Enter an index value : \"))\n",
    "\n",
    "print(\"Method - 1\")\n",
    "new_string = ''\n",
    "for i in range(len(str1)):\n",
    "    if i != idx:\n",
    "        new_string += str1[i]\n",
    "print(f\"New String : {new_string}\")\n",
    "\n",
    "print(\"\\nMethod - 2\")\n",
    "new_string = str1[:idx] + str1[idx+1:]\n",
    "print(f\"New String : {new_string}\")"
   ]
  },
  {
   "cell_type": "markdown",
   "id": "c529a952-945a-404a-8864-a05de09420f7",
   "metadata": {},
   "source": [
    "## 4. Find length of a string in python (4 ways)"
   ]
  },
  {
   "cell_type": "code",
   "execution_count": 11,
   "id": "938d77b4-9032-4d1b-a4c7-ecc16501a1a3",
   "metadata": {},
   "outputs": [
    {
     "name": "stdout",
     "output_type": "stream",
     "text": [
      "Original String : chess is good game\n",
      "\n",
      "String length is 18 using find_len1() function.\n",
      "String length is 18 using find_len2() function.\n",
      "String length is 18 using find_len3() function.\n",
      "String length is 18 using len() function.\n"
     ]
    }
   ],
   "source": [
    "def find_len1(str_1):\n",
    "  counter = 0\n",
    "  for i in str_1:\n",
    "    counter += 1\n",
    "  return counter\n",
    "\n",
    "def find_len2(str_1):\n",
    "    return sum( 1 for i in str_1);\n",
    "\n",
    "def find_len3(str_1):\n",
    "  counter = 0\n",
    "  for i, a in enumerate(str_1):\n",
    "    counter += 1\n",
    "  return counter\n",
    "\n",
    "print(f\"Original String : {str1}\\n\")\n",
    "print(f\"String length is {find_len1(str1)} using find_len1() function.\")\n",
    "print(f\"String length is {find_len2(str1)} using find_len2() function.\")\n",
    "print(f\"String length is {find_len3(str1)} using find_len3() function.\")\n",
    "print(f\"String length is {len(str1)} using len() function.\")"
   ]
  },
  {
   "cell_type": "markdown",
   "id": "d7fe0bdc-3807-4dbf-8406-90aeec169ac2",
   "metadata": {},
   "source": [
    "## 5. Python program to print even length words in a string"
   ]
  },
  {
   "cell_type": "code",
   "execution_count": 12,
   "id": "e8b47c39-a4bc-425a-8751-172034b8cc98",
   "metadata": {},
   "outputs": [
    {
     "name": "stdout",
     "output_type": "stream",
     "text": [
      "Original String : chess is good game\n",
      "\n",
      "Here are even words : \n",
      "chess\tgood\t"
     ]
    }
   ],
   "source": [
    "print(f\"Original String : {str1}\\n\")\n",
    "print(\"Here are even words : \")\n",
    "str_list = str1.split(' ')\n",
    "for i in range(0,len(str_list),2):\n",
    "  print(str_list[i],end = '\\t')"
   ]
  },
  {
   "cell_type": "markdown",
   "id": "d7aabec0",
   "metadata": {},
   "source": [
    "## Calculator -  Addition | Subtraction | Multiplication | Division"
   ]
  },
  {
   "cell_type": "code",
   "execution_count": 13,
   "id": "5607abe7",
   "metadata": {},
   "outputs": [
    {
     "name": "stdout",
     "output_type": "stream",
     "text": [
      "Sum of 5.0 and 4.0 is 9.0.\n",
      "\n"
     ]
    }
   ],
   "source": [
    "def add(num1,num2):\n",
    "    return num1+num2\n",
    "def sub(num1,num2):\n",
    "    return num1-num2\n",
    "def mul(num1,num2):\n",
    "    return num1*num2\n",
    "def div(num1,num2):\n",
    "    return num1/num2\n",
    "def mod(num1,num2):\n",
    "    return num1%num2\n",
    "\n",
    "num1 = float(input(\"Enter first number : \"))\n",
    "num2 = float(input(\"Enter second number : \"))\n",
    "choice = int(input(\"1. Addition\\n2. Subtraction\\n3. Multiplication\\n4. Division\\n5. Find Reminder\\n6. Exit\\n\\nEnter your choice : \"))\n",
    "if choice == 1:\n",
    "    print(f\"Sum of {num1} and {num2} is {add(num1,num2)}.\\n\")\n",
    "elif choice == 2:\n",
    "    print(f\"Subtraction of {num1} and {num2} is {sub(num1,num2)}.\\n\")\n",
    "elif choice == 3:\n",
    "    print(f\"Multiplication of {num1} and {num2} is {mul(num1,num2)}.\\n\")\n",
    "elif choice == 4:\n",
    "    print(f\"Division of {num1} and {num2} is {div(num1,num2)}.\\n\")\n",
    "elif choice == 5:\n",
    "    print(f\"{num1} % {num2} = {mod(num1,num2)}\\n\")\n",
    "elif choice == 6:\n",
    "    exit(0)\n",
    "else:\n",
    "    print(\"Invalid Choice !!\")"
   ]
  }
 ],
 "metadata": {
  "kernelspec": {
   "display_name": "Python 3 (ipykernel)",
   "language": "python",
   "name": "python3"
  },
  "language_info": {
   "codemirror_mode": {
    "name": "ipython",
    "version": 3
   },
   "file_extension": ".py",
   "mimetype": "text/x-python",
   "name": "python",
   "nbconvert_exporter": "python",
   "pygments_lexer": "ipython3",
   "version": "3.11.2"
  }
 },
 "nbformat": 4,
 "nbformat_minor": 5
}
