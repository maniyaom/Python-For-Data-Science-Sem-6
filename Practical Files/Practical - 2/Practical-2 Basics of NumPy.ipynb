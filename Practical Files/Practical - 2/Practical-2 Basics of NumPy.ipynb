{
 "cells": [
  {
   "cell_type": "code",
   "execution_count": 2,
   "id": "b55ca1de",
   "metadata": {},
   "outputs": [],
   "source": [
    "import numpy as np\n",
    "import time\n",
    "import random"
   ]
  },
  {
   "cell_type": "markdown",
   "id": "a3c9d3b6",
   "metadata": {},
   "source": [
    "## 1. Create a 10x10 array with random values and find the minimum and maximum values"
   ]
  },
  {
   "cell_type": "code",
   "execution_count": 13,
   "id": "56b1db3b",
   "metadata": {},
   "outputs": [
    {
     "name": "stdout",
     "output_type": "stream",
     "text": [
      "Maximum of given array is 0.9970711767056688.\n",
      "Minimum of given array is 0.018700461153001946.\n"
     ]
    }
   ],
   "source": [
    "arr = np.random.rand(10,10)\n",
    "print(f\"Maximum of given array is {np.max(arr)}.\")\n",
    "print(f\"Minimum of given array is {np.min(arr)}.\")"
   ]
  },
  {
   "cell_type": "markdown",
   "id": "3dd49113",
   "metadata": {},
   "source": [
    "## Write a NumPy program to create a 8x8 matrix and fill it with a checkerboard pattern.\n",
    "## Checkerboard\n",
    "## pattern:\n",
    "\n",
    "### [[0 1 0 1 0 1 0 1]\n",
    "### [1 0 1 0 1 0 1 0]\n",
    "### [0 1 0 1 0 1 0 1]\n",
    "### [1 0 1 0 1 0 1 0]\n",
    "### [0 1 0 1 0 1 0 1]\n",
    "### [1 0 1 0 1 0 1 0]\n",
    "### [0 1 0 1 0 1 0 1]\n",
    "### [1 0 1 0 1 0 1 0]]"
   ]
  },
  {
   "cell_type": "code",
   "execution_count": 17,
   "id": "21b2eb26",
   "metadata": {},
   "outputs": [
    {
     "name": "stdout",
     "output_type": "stream",
     "text": [
      "[[0 1 0 1 0 1 0 1]\n",
      " [1 0 1 0 1 0 1 0]\n",
      " [0 1 0 1 0 1 0 1]\n",
      " [1 0 1 0 1 0 1 0]\n",
      " [0 1 0 1 0 1 0 1]\n",
      " [1 0 1 0 1 0 1 0]\n",
      " [0 1 0 1 0 1 0 1]\n",
      " [1 0 1 0 1 0 1 0]]\n"
     ]
    }
   ],
   "source": [
    "checker_board = np.zeros((8,8),dtype=int)\n",
    "checker_board[1::2,::2] = 1\n",
    "checker_board[::2,1::2] = 1\n",
    "print(checker_board)"
   ]
  },
  {
   "cell_type": "markdown",
   "id": "7ee194c6",
   "metadata": {},
   "source": [
    "## 3. Write a NumPy program to append values to the end of an array.\n",
    "##     Expected Output: Original array: [10, 20, 30]\n",
    "##     After append values to the end of the array: [10 20 30 40 50 60 70 80 90]"
   ]
  },
  {
   "cell_type": "code",
   "execution_count": 15,
   "id": "fe0a8e57",
   "metadata": {},
   "outputs": [
    {
     "name": "stdin",
     "output_type": "stream",
     "text": [
      "Enter values for array - 1 (Space-Separated) :  10 20 30\n"
     ]
    },
    {
     "name": "stdout",
     "output_type": "stream",
     "text": [
      "Original array : [10 20 30]\n"
     ]
    },
    {
     "name": "stdin",
     "output_type": "stream",
     "text": [
      "Enter values for array - 2 (Space-Separated) :  40 50 60 70 80 90\n"
     ]
    },
    {
     "name": "stdout",
     "output_type": "stream",
     "text": [
      "Array after append : [10 20 30 40 50 60 70 80 90]\n"
     ]
    }
   ],
   "source": [
    "arr1 = np.array([int(i) for i in input(\"Enter values for array - 1 (Space-Separated) : \").split(' ')])\n",
    "print(f\"Original array : {arr1}\")\n",
    "arr2 = np.array([int(i) for i in input(\"Enter values for array - 2 (Space-Separated) : \").split(' ')])\n",
    "arr = np.append(arr1,arr2)\n",
    "print(f\"Array after append : {arr}\")"
   ]
  },
  {
   "cell_type": "markdown",
   "id": "d394edff",
   "metadata": {},
   "source": [
    "## 4. Write a NumPy program to calculate the arithmetic means of corresponding elements of two given arrays of same size."
   ]
  },
  {
   "cell_type": "code",
   "execution_count": 19,
   "id": "ab162910",
   "metadata": {},
   "outputs": [
    {
     "name": "stdout",
     "output_type": "stream",
     "text": [
      "Enter values for array - 1 (Space-Separated) : 10 15 20\n",
      "Enter values for array - 2 (Space-Separated) : 20 19 32\n",
      "Array 1: [10. 15. 20.]\n",
      "Array 2: [20. 19. 32.]\n",
      "Arithmetic Means: [15. 17. 26.]\n"
     ]
    }
   ],
   "source": [
    "# Create two arrays of the same size\n",
    "array1 = np.array([float(i) for i in input(\"Enter values for array - 1 (Space-Separated) : \").split(' ')])\n",
    "array2 = np.array([float(i) for i in input(\"Enter values for array - 2 (Space-Separated) : \").split(' ')])\n",
    "\n",
    "# Calculate the arithmetic means\n",
    "mean_array = (array1 + array2) / 2\n",
    "\n",
    "# Print the result\n",
    "print(\"Array 1:\", array1)\n",
    "print(\"Array 2:\", array2)\n",
    "print(\"Arithmetic Means:\", mean_array)"
   ]
  },
  {
   "cell_type": "markdown",
   "id": "d39a4c0a",
   "metadata": {},
   "source": [
    "## 5. Write a Numpy program to test whether a numpy array is faster than a Python list or not."
   ]
  },
  {
   "cell_type": "code",
   "execution_count": 16,
   "id": "e20fab45",
   "metadata": {},
   "outputs": [
    {
     "name": "stdout",
     "output_type": "stream",
     "text": [
      "Time taken for sorting array is 0.0.\n",
      "Time taken for sorting list is 0.018715858459472656.\n"
     ]
    }
   ],
   "source": [
    "my_list = [np.random.randint(1000) for i in range(10**5)]\n",
    "my_array = np.arange(10**5)\n",
    "\n",
    "start_time = time.time()\n",
    "np.sort(my_array)\n",
    "end_time = time.time()\n",
    "print(f\"Time taken for sorting array is {end_time - start_time}.\")\n",
    "\n",
    "start_time = time.time()\n",
    "my_list.sort()\n",
    "end_time = time.time()\n",
    "print(f\"Time taken for sorting list is {end_time - start_time}.\")"
   ]
  },
  {
   "cell_type": "markdown",
   "id": "17450d6e",
   "metadata": {},
   "source": [
    "## 6. Write a Python function to create an array of 10 values from 1 to 5 evenly spaced."
   ]
  },
  {
   "cell_type": "code",
   "execution_count": 21,
   "id": "e7386bcc",
   "metadata": {},
   "outputs": [
    {
     "name": "stdout",
     "output_type": "stream",
     "text": [
      "Evenly spaced array: [1.         1.44444444 1.88888889 2.33333333 2.77777778 3.22222222\n",
      " 3.66666667 4.11111111 4.55555556 5.        ]\n"
     ]
    }
   ],
   "source": [
    "array = np.linspace(1, 5, 10)\n",
    "print(\"Evenly spaced array:\", array)"
   ]
  },
  {
   "cell_type": "markdown",
   "id": "5a17b90c",
   "metadata": {},
   "source": [
    "## 7.  Given a 1D array, negate all elements which are between 3 and 8, in place."
   ]
  },
  {
   "cell_type": "code",
   "execution_count": 22,
   "id": "9949d943",
   "metadata": {},
   "outputs": [
    {
     "name": "stdout",
     "output_type": "stream",
     "text": [
      "Enter values for Array (Space-Separated) : 1 2 8 5 4 6 7\n",
      "Original array : [1. 2. 8. 5. 4. 6. 7.]\n",
      "Array after negation : [ 1.  2.  8. -5. -4. -6. -7.]\n"
     ]
    }
   ],
   "source": [
    "arr = np.array([float(i) for i in input(\"Enter values for Array (Space-Separated) : \").split(' ')])\n",
    "print(f\"Original array : {arr}\")\n",
    "indices = np.where((arr > 3) & (arr < 8))\n",
    "arr[indices] = -arr[indices]\n",
    "print(f\"Array after negation : {arr}\")"
   ]
  },
  {
   "cell_type": "markdown",
   "id": "b4f257a3",
   "metadata": {},
   "source": [
    "## 8.  How to compute ((A+B)*(-A/2)) in place (without copy) ? \n",
    "## where A = [1. 1. 1.] and B=[2. 2. 2.]"
   ]
  },
  {
   "cell_type": "code",
   "execution_count": 51,
   "id": "b3e5f0a3",
   "metadata": {},
   "outputs": [
    {
     "data": {
      "text/plain": [
       "array([-1.5, -1.5, -1.5])"
      ]
     },
     "execution_count": 51,
     "metadata": {},
     "output_type": "execute_result"
    }
   ],
   "source": [
    "a = np.ones(3)*1\n",
    "b = np.ones(3)*2\n",
    "np.add(a,b,out=b)\n",
    "np.divide(a,2,out=a)\n",
    "np.negative(a,out=a)\n",
    "np.multiply(a,b,out=a)"
   ]
  },
  {
   "cell_type": "markdown",
   "id": "644164aa",
   "metadata": {},
   "source": [
    "## 9.  Create random vector of size 10 and replace the maximum value by 0"
   ]
  },
  {
   "cell_type": "code",
   "execution_count": 24,
   "id": "2d1c26fe",
   "metadata": {},
   "outputs": [
    {
     "name": "stdout",
     "output_type": "stream",
     "text": [
      "Random vector before replacing maximum value : [0.10142025 0.20092468 0.47020336 0.55690621 0.7940462  0.09472048\n",
      " 0.86424212 0.08432712 0.34702337 0.48902755]\n",
      "Random vector after replacing maximum value : [0.10142025 0.20092468 0.47020336 0.55690621 0.7940462  0.09472048\n",
      " 0.         0.08432712 0.34702337 0.48902755]\n"
     ]
    }
   ],
   "source": [
    "random_vector = np.random.rand(10)\n",
    "print(f\"Random vector before replacing maximum value : {random_vector}\")\n",
    "random_vector[random_vector == np.max(random_vector)] = 0\n",
    "print(f\"Random vector after replacing maximum value : {random_vector}\")"
   ]
  },
  {
   "cell_type": "markdown",
   "id": "8f5852db",
   "metadata": {},
   "source": [
    "## 10. Write a NumPy program to subtract the mean of each row of a given matrix."
   ]
  },
  {
   "cell_type": "code",
   "execution_count": 27,
   "id": "a132e858",
   "metadata": {},
   "outputs": [
    {
     "name": "stdout",
     "output_type": "stream",
     "text": [
      "Enter the size of the array : 3\n",
      "Enter row - 1 for Array (Space-Separated) : 10 20 30\n",
      "Enter row - 2 for Array (Space-Separated) : 1 2 9\n",
      "Enter row - 3 for Array (Space-Separated) : 5 6 8\n",
      "Original array : \n",
      "[[10. 20. 30.]\n",
      " [ 1.  2.  9.]\n",
      " [ 5.  6.  8.]]\n",
      "Updated Array : [[-10.           0.          10.        ]\n",
      " [ -3.          -2.           5.        ]\n",
      " [ -1.33333333  -0.33333333   1.66666667]]\n"
     ]
    }
   ],
   "source": [
    "size = int(input(\"Enter the size of the array : \"))\n",
    "arr = np.array([[float(j) for j in input(f\"Enter row - {i + 1} for Array (Space-Separated) : \").split(' ')] for i in range(size)])\n",
    "\n",
    "print(f\"Original array : \\n{arr}\")\n",
    "\n",
    "arr = arr - np.mean(arr,axis=1,keepdims=True)\n",
    "print(f\"Updated Array : {arr}\")"
   ]
  }
 ],
 "metadata": {
  "kernelspec": {
   "display_name": "Python 3 (ipykernel)",
   "language": "python",
   "name": "python3"
  },
  "language_info": {
   "codemirror_mode": {
    "name": "ipython",
    "version": 3
   },
   "file_extension": ".py",
   "mimetype": "text/x-python",
   "name": "python",
   "nbconvert_exporter": "python",
   "pygments_lexer": "ipython3",
   "version": "3.11.2"
  }
 },
 "nbformat": 4,
 "nbformat_minor": 5
}
